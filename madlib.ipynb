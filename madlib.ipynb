{
 "cells": [
  {
   "cell_type": "code",
   "execution_count": null,
   "metadata": {},
   "outputs": [],
   "source": [
    "# Parts of Speech \n",
    "\n",
    "import pandas as pd\n",
    "\n",
    "# Define the data\n",
    "data = {\n",
    "    \"Part of Speech\": [\"Noun\", \"Verb\", \"Adjective\", \"Adverb\", \"Pronoun\", \"Preposition\", \"Conjunction\", \"Interjection\"],\n",
    "    \"Description\": [\n",
    "        \"Names a person, place, thing, or idea\",\n",
    "        \"Describes an action or state of being\",\n",
    "        \"Modifies or describes a noun\",\n",
    "        \"Modifies a verb, adjective, or adverb\",\n",
    "        \"Replaces a noun\",\n",
    "        \"Shows relationships between words\",\n",
    "        \"Connects words, phrases, or clauses\",\n",
    "        \"Expresses emotion or exclamation\"\n",
    "    ],\n",
    "    \"Examples\": [\n",
    "        \"dog, city, happiness\",\n",
    "        \"run, is, think\",\n",
    "        \"happy, blue, large\",\n",
    "        \"quickly, very, well\",\n",
    "        \"he, she, it, they\",\n",
    "        \"in, on, at, between\",\n",
    "        \"and, but, or\",\n",
    "        \"wow, ouch, hey\"\n",
    "    ]\n",
    "}\n",
    "\n",
    "# Create the DataFrame\n",
    "df = pd.DataFrame(data)\n",
    "\n",
    "df.head()\n",
    "\n",
    "\n",
    "input('Press any key...')"
   ]
  },
  {
   "cell_type": "code",
   "execution_count": 47,
   "metadata": {},
   "outputs": [],
   "source": [
    "with open('story4.txt', 'r') as f:      # Opening a file'story4.txt' in read mode and accessing it through 'f'\n",
    " \n",
    "    story = f.read()                   # Initialise a string and store the contents of the textfile\n"
   ]
  },
  {
   "cell_type": "code",
   "execution_count": 48,
   "metadata": {},
   "outputs": [],
   "source": [
    "# A function to check if the word starts with a vowel\n",
    "\n",
    "def starts_with_vowel(word):\n",
    "   \n",
    "    vowels = 'aeiouAEIOU'       # Include both lowercase and uppercase vowels\n",
    "   \n",
    "    return word[0] in vowels    # The function will return True if the first letter of the word in found in vowels"
   ]
  },
  {
   "cell_type": "code",
   "execution_count": 49,
   "metadata": {},
   "outputs": [],
   "source": [
    "words = set()            # A 'set' is a collection data type that is unordered, mutable, and does not allow duplicate elements\n",
    "\n",
    "start_of_word = -1      # A variable to check if we have the start of the target word(s) that needs to be replaced\n",
    "\n",
    "target_start = '<'      # The target words in the raw story start with '<' and end with '>'\n",
    "\n",
    "target_end = '>'\n",
    "\n",
    "for i, char in enumerate(story):      # Use the enumerate funtion to store the characters as well as their respective indices   \n",
    "    \n",
    "    if char == target_start:            # Once the target word is located, the variable initialised above will be set to the index of the target word\n",
    "     \n",
    "        start_of_word = i\n",
    "    \n",
    "    if char == target_end and start_of_word != -1:\n",
    "     \n",
    "        word = story[start_of_word: i + 1]       # Slicing a part of the string and storing it in 'word'    \n",
    "       \n",
    "        words.add(word)                 # Adding the sliced string to the set \n",
    "      \n",
    "        start_of_word = -1              # Changing the value back to -1 to restart the process\n",
    "\n"
   ]
  },
  {
   "cell_type": "code",
   "execution_count": null,
   "metadata": {},
   "outputs": [],
   "source": [
    "# Create a dictionary to store the corresponding values for the target words\n",
    "\n",
    "answers = {}        \n",
    "\n",
    "for word in words:\n",
    "    \n",
    "    answer = input('Enter a word for ' + word + ': ')\n",
    "   \n",
    "    answers[word] = answer\n",
    "\n",
    "print(answers)\n",
    "\n"
   ]
  },
  {
   "cell_type": "code",
   "execution_count": null,
   "metadata": {},
   "outputs": [],
   "source": [
    "# To replace the target words (keys) with their corresponding values from answers\n",
    "\n",
    "for word in words:\n",
    "    \n",
    "    story = story.replace(word, answers[word])\n",
    "\n",
    "print(story)"
   ]
  },
  {
   "cell_type": "code",
   "execution_count": 52,
   "metadata": {},
   "outputs": [],
   "source": [
    "# We will store the story in a new text file\n",
    "\n",
    "with open('story_new.txt', 'w') as j:\n",
    "    \n",
    "    j.write(story)\n",
    "   \n",
    "    stor = story"
   ]
  },
  {
   "cell_type": "code",
   "execution_count": null,
   "metadata": {},
   "outputs": [],
   "source": [
    "# Now we will ensure the correct article usage has been done for the new words taken by the user\n",
    "# Firstly, we will store all the words in a list\n",
    "\n",
    "words = []          # Initialize an empty list to store the words\n",
    "\n",
    "# Initialize an empty string to build each word\n",
    "current_word = \"\"\n",
    "\n",
    "# Loop through each character in the input string\n",
    "for char in stor:\n",
    "   \n",
    "    # Check if the character is an alphanumeric character\n",
    "    if char.isalnum():\n",
    "     \n",
    "        # If it is, add it to the current word\n",
    "        current_word += char\n",
    "    #Check if it is a punctuation\n",
    "    elif char != ' ' and char != '\\n':\n",
    "       \n",
    "        current_word += char\n",
    "\n",
    "    else:\n",
    "        # If it's not, check if we have a current word\n",
    "        if current_word:\n",
    "            # If we do, add it to the words list\n",
    "            words.append(current_word)\n",
    "            # Reset the current word to an empty string\n",
    "            current_word = \"\"\n",
    "\n",
    "# After the loop, add the last word if there is one\n",
    "if current_word:\n",
    "   \n",
    "    words.append(current_word)\n",
    "\n",
    "# Print the list of words\n",
    "print(words)\n"
   ]
  },
  {
   "cell_type": "code",
   "execution_count": null,
   "metadata": {},
   "outputs": [],
   "source": [
    "#Finally, we will replace the articles if they need to be\n",
    "\n",
    "for t, wor in enumerate(words):\n",
    "    \n",
    "    if starts_with_vowel(wor) is True and words[t-1] == 'a':\n",
    "       \n",
    "        words[t-1] = 'an'  \n",
    "\n",
    "print(words)\n",
    "    "
   ]
  },
  {
   "cell_type": "code",
   "execution_count": null,
   "metadata": {},
   "outputs": [],
   "source": [
    "# Specify the output file path\n",
    "\n",
    "file_path = \"story_new.txt\"\n",
    "\n",
    "# Open the file in write mode\n",
    "\n",
    "with open(file_path, \"w\") as file:\n",
    "   \n",
    "    file.write(\" \".join(words))\n",
    "\n",
    "print(file)"
   ]
  }
 ],
 "metadata": {
  "kernelspec": {
   "display_name": "Python 3",
   "language": "python",
   "name": "python3"
  },
  "language_info": {
   "codemirror_mode": {
    "name": "ipython",
    "version": 3
   },
   "file_extension": ".py",
   "mimetype": "text/x-python",
   "name": "python",
   "nbconvert_exporter": "python",
   "pygments_lexer": "ipython3",
   "version": "3.12.1"
  }
 },
 "nbformat": 4,
 "nbformat_minor": 2
}
